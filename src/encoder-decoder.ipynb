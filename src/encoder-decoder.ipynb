{
 "cells": [
  {
   "cell_type": "markdown",
   "id": "67364ffb",
   "metadata": {},
   "source": [
    "# Semantic Image Compression"
   ]
  },
  {
   "cell_type": "markdown",
   "id": "71f01b0d",
   "metadata": {},
   "source": [
    "## Encoder Decoder Network"
   ]
  },
  {
   "cell_type": "code",
   "execution_count": 4,
   "id": "302dd4ce",
   "metadata": {},
   "outputs": [],
   "source": [
    "import torch as T\n",
    "import torch.nn as nn\n",
    "import torch.nn.functional as F\n",
    "import torch.optim as optim\n",
    "import torchvision\n",
    "from torch.utils.data import Dataset, DataLoader\n",
    "from torch.utils.tensorboard import SummaryWriter\n",
    "from torchsummary import summary\n",
    "import numpy as np\n",
    "from tqdm import tqdm\n",
    "import time"
   ]
  },
  {
   "cell_type": "code",
   "execution_count": 33,
   "id": "abd4859c",
   "metadata": {},
   "outputs": [],
   "source": [
    "class autoencoder(nn.Module):\n",
    "    def __init__(self, channels, outputs, learning_rate, tb_dir, model_dir, weights=None):\n",
    "        super(autoencoder, self).__init__()\n",
    "        self.conv1 = nn.Conv2d(channels, 32, 4, 2, 1)\n",
    "        self.conv2 = nn.Conv2d(32, 64, 4, 2, 1)\n",
    "        self.bn2 = nn.BatchNorm2d(64)\n",
    "        self.conv3 = nn.Conv2d(64, 128, 4, 2, 1)\n",
    "        self.bn3 = nn.BatchNorm2d(128)\n",
    "        self.conv4 = nn.Conv2d(128, 256, 4, 2, 1)\n",
    "        self.bn4 = nn.BatchNorm2d(256)\n",
    "        self.conv5 = nn.Conv2d(256, 512, 4, 2, 1)\n",
    "        self.bn5 = nn.BatchNorm2d(512)\n",
    "        self.conv6 = nn.Conv2d(512, 64, 4, 1)\n",
    "        \n",
    "        self.conv7 = nn.ConvTranspose2d(64, 512, 4, 1)\n",
    "        self.bn7 = nn.BatchNorm2d(512)\n",
    "        self.conv8 = nn.ConvTranspose2d(512, 256, 4, 2, 1)\n",
    "        self.bn8 = nn.BatchNorm2d(256)\n",
    "        self.conv9 = nn.ConvTranspose2d(256, 128, 4, 2, 1)\n",
    "        self.bn9 = nn.BatchNorm2d(128)\n",
    "        self.conv10 = nn.ConvTranspose2d(128, 64, 4, 2, 1)\n",
    "        self.bn10 = nn.BatchNorm2d(64)\n",
    "        self.conv11 = nn.ConvTranspose2d(64, 32, 4, 2, 1)\n",
    "        self.bn11 = nn.BatchNorm2d(32)\n",
    "        self.conv12 = nn.ConvTranspose2d(32, outputs, 4, 2, 1)\n",
    "        \n",
    "        if weights is not None:\n",
    "            self.loss = nn.CrossEntropyLoss(weights)\n",
    "        else:\n",
    "            self.loss = nn.CrossEntropyLoss()\n",
    "        self.learning_rate = learning_rate\n",
    "        self.optimiser = optim.Adam(self.parameters(), self.learning_rate)\n",
    "        self.device = T.device(\"cuda\" if T.cuda.is_available() else \"cpu\")\n",
    "        self.tensorboard = SummaryWriter(tb_dir + f'/ae-{int(time.time())}')\n",
    "        self.to(self.device)\n",
    "        \n",
    "    def forward(self, x):\n",
    "        x = self.conv1(x)\n",
    "        x = F.leaky_relu(x, 0.2)\n",
    "        \n",
    "        x = self.conv2(x)\n",
    "        x = self.bn2(x)\n",
    "        x = F.leaky_relu(x, 0.2)\n",
    "\n",
    "        x = self.conv3(x)\n",
    "        x = self.bn3(x)\n",
    "        x = F.leaky_relu(x, 0.2)\n",
    "\n",
    "        x = self.conv4(x)\n",
    "        x = self.bn4(x)\n",
    "        x = F.leaky_relu(x, 0.2)\n",
    "        \n",
    "        x = self.conv5(x)\n",
    "        x = self.bn5(x)\n",
    "        x = F.leaky_relu(x, 0.2)\n",
    "        \n",
    "        x = self.conv6(x)\n",
    "\n",
    "        x = self.conv7(x)\n",
    "        x = self.bn7(x)\n",
    "        x = F.leaky_relu(x, 0.2)\n",
    "        \n",
    "        x = self.conv8(x)\n",
    "        x = self.bn8(x)\n",
    "        x = F.leaky_relu(x, 0.2)\n",
    "\n",
    "        x = self.conv9(x)\n",
    "        x = self.bn9(x)\n",
    "        x = F.leaky_relu(x, 0.2)\n",
    "\n",
    "        x = self.conv10(x)\n",
    "        x = self.bn10(x)\n",
    "        x = F.leaky_relu(x, 0.2)\n",
    "        \n",
    "        x = self.conv11(x)\n",
    "        x = self.bn11(x)\n",
    "        x = F.leaky_relu(x, 0.2)\n",
    "        \n",
    "        x = self.conv12(x)\n",
    "        x = T.sigmoid(x)\n",
    "        \n",
    "        return x\n",
    "    \n",
    "    def compress(self, x):\n",
    "        x = self.conv1(x)\n",
    "        x = F.leaky_relu(x, 0.2)\n",
    "        \n",
    "        x = self.conv2(x)\n",
    "        x = self.bn2(x)\n",
    "        x = F.leaky_relu(x, 0.2)\n",
    "\n",
    "        x = self.conv3(x)\n",
    "        x = self.bn3(x)\n",
    "        x = F.leaky_relu(x, 0.2)\n",
    "\n",
    "        x = self.conv4(x)\n",
    "        x = self.bn4(x)\n",
    "        x = F.leaky_relu(x, 0.2)\n",
    "        \n",
    "        x = self.conv5(x)\n",
    "        x = self.bn5(x)\n",
    "        x = F.leaky_relu(x, 0.2)\n",
    "        \n",
    "        x = self.conv6(x)\n",
    "        \n",
    "        return x\n",
    "    \n",
    "    def save_model(self, r, t, ep):\n",
    "        T.save(self.state_dict(), model_dir + f\"/ae-{int(time.time())}\")"
   ]
  },
  {
   "cell_type": "code",
   "execution_count": 36,
   "id": "d16e2045",
   "metadata": {},
   "outputs": [
    {
     "data": {
      "text/plain": [
       "<All keys matched successfully>"
      ]
     },
     "execution_count": 36,
     "metadata": {},
     "output_type": "execute_result"
    }
   ],
   "source": [
    "ae = autoencoder(1, 13, 0.001, 'ae-models/dummy', 'ae-runs/dummy', T.tensor([1, 1, 1, 1, 1, 1, 1, 1, 1, 1, 1, 1, 1]))\n",
    "ae.load_state_dict(T.load('ae-models/Clear Noon Dry/ae-1649055310'))"
   ]
  },
  {
   "cell_type": "code",
   "execution_count": 6,
   "id": "18fb8abb",
   "metadata": {},
   "outputs": [
    {
     "name": "stdout",
     "output_type": "stream",
     "text": [
      "==========================================================================================\n",
      "Layer (type:depth-idx)                   Output Shape              Param #\n",
      "==========================================================================================\n",
      "├─Conv2d: 1-1                            [-1, 32, 64, 64]          544\n",
      "├─Conv2d: 1-2                            [-1, 64, 32, 32]          32,832\n",
      "├─BatchNorm2d: 1-3                       [-1, 64, 32, 32]          128\n",
      "├─Conv2d: 1-4                            [-1, 128, 16, 16]         131,200\n",
      "├─BatchNorm2d: 1-5                       [-1, 128, 16, 16]         256\n",
      "├─Conv2d: 1-6                            [-1, 256, 8, 8]           524,544\n",
      "├─BatchNorm2d: 1-7                       [-1, 256, 8, 8]           512\n",
      "├─Conv2d: 1-8                            [-1, 512, 4, 4]           2,097,664\n",
      "├─BatchNorm2d: 1-9                       [-1, 512, 4, 4]           1,024\n",
      "├─Conv2d: 1-10                           [-1, 64, 1, 1]            524,352\n",
      "├─ConvTranspose2d: 1-11                  [-1, 512, 4, 4]           524,800\n",
      "├─BatchNorm2d: 1-12                      [-1, 512, 4, 4]           1,024\n",
      "├─ConvTranspose2d: 1-13                  [-1, 256, 8, 8]           2,097,408\n",
      "├─BatchNorm2d: 1-14                      [-1, 256, 8, 8]           512\n",
      "├─ConvTranspose2d: 1-15                  [-1, 128, 16, 16]         524,416\n",
      "├─BatchNorm2d: 1-16                      [-1, 128, 16, 16]         256\n",
      "├─ConvTranspose2d: 1-17                  [-1, 64, 32, 32]          131,136\n",
      "├─BatchNorm2d: 1-18                      [-1, 64, 32, 32]          128\n",
      "├─ConvTranspose2d: 1-19                  [-1, 32, 64, 64]          32,800\n",
      "├─BatchNorm2d: 1-20                      [-1, 32, 64, 64]          64\n",
      "├─ConvTranspose2d: 1-21                  [-1, 13, 128, 128]        6,669\n",
      "==========================================================================================\n",
      "Total params: 6,632,269\n",
      "Trainable params: 6,632,269\n",
      "Non-trainable params: 0\n",
      "Total mult-adds (M): 791.15\n",
      "==========================================================================================\n",
      "Input size (MB): 0.06\n",
      "Forward/backward pass size (MB): 8.38\n",
      "Params size (MB): 25.30\n",
      "Estimated Total Size (MB): 33.74\n",
      "==========================================================================================\n"
     ]
    },
    {
     "data": {
      "text/plain": [
       "==========================================================================================\n",
       "Layer (type:depth-idx)                   Output Shape              Param #\n",
       "==========================================================================================\n",
       "├─Conv2d: 1-1                            [-1, 32, 64, 64]          544\n",
       "├─Conv2d: 1-2                            [-1, 64, 32, 32]          32,832\n",
       "├─BatchNorm2d: 1-3                       [-1, 64, 32, 32]          128\n",
       "├─Conv2d: 1-4                            [-1, 128, 16, 16]         131,200\n",
       "├─BatchNorm2d: 1-5                       [-1, 128, 16, 16]         256\n",
       "├─Conv2d: 1-6                            [-1, 256, 8, 8]           524,544\n",
       "├─BatchNorm2d: 1-7                       [-1, 256, 8, 8]           512\n",
       "├─Conv2d: 1-8                            [-1, 512, 4, 4]           2,097,664\n",
       "├─BatchNorm2d: 1-9                       [-1, 512, 4, 4]           1,024\n",
       "├─Conv2d: 1-10                           [-1, 64, 1, 1]            524,352\n",
       "├─ConvTranspose2d: 1-11                  [-1, 512, 4, 4]           524,800\n",
       "├─BatchNorm2d: 1-12                      [-1, 512, 4, 4]           1,024\n",
       "├─ConvTranspose2d: 1-13                  [-1, 256, 8, 8]           2,097,408\n",
       "├─BatchNorm2d: 1-14                      [-1, 256, 8, 8]           512\n",
       "├─ConvTranspose2d: 1-15                  [-1, 128, 16, 16]         524,416\n",
       "├─BatchNorm2d: 1-16                      [-1, 128, 16, 16]         256\n",
       "├─ConvTranspose2d: 1-17                  [-1, 64, 32, 32]          131,136\n",
       "├─BatchNorm2d: 1-18                      [-1, 64, 32, 32]          128\n",
       "├─ConvTranspose2d: 1-19                  [-1, 32, 64, 64]          32,800\n",
       "├─BatchNorm2d: 1-20                      [-1, 32, 64, 64]          64\n",
       "├─ConvTranspose2d: 1-21                  [-1, 13, 128, 128]        6,669\n",
       "==========================================================================================\n",
       "Total params: 6,632,269\n",
       "Trainable params: 6,632,269\n",
       "Non-trainable params: 0\n",
       "Total mult-adds (M): 791.15\n",
       "==========================================================================================\n",
       "Input size (MB): 0.06\n",
       "Forward/backward pass size (MB): 8.38\n",
       "Params size (MB): 25.30\n",
       "Estimated Total Size (MB): 33.74\n",
       "=========================================================================================="
      ]
     },
     "execution_count": 6,
     "metadata": {},
     "output_type": "execute_result"
    }
   ],
   "source": [
    "e = autoencoder(1, 13, 0.001)\n",
    "summary(e, (1, 128, 128))"
   ]
  },
  {
   "cell_type": "code",
   "execution_count": 8,
   "id": "fc121bbf",
   "metadata": {},
   "outputs": [],
   "source": [
    "mask = np.load('images/Clear Noon Dry/Semantic/sem_image100.npy')"
   ]
  },
  {
   "cell_type": "code",
   "execution_count": 9,
   "id": "e6334d92",
   "metadata": {},
   "outputs": [],
   "source": [
    "maskT = T.tensor(mask)"
   ]
  },
  {
   "cell_type": "code",
   "execution_count": 14,
   "id": "82895e3b",
   "metadata": {},
   "outputs": [],
   "source": [
    "maskT = T.reshape(maskT, (1, 1, 128, 128))"
   ]
  },
  {
   "cell_type": "code",
   "execution_count": 15,
   "id": "3c3aeb9f",
   "metadata": {},
   "outputs": [
    {
     "data": {
      "text/plain": [
       "torch.Size([1, 1, 128, 128])"
      ]
     },
     "execution_count": 15,
     "metadata": {},
     "output_type": "execute_result"
    }
   ],
   "source": [
    "maskT.shape"
   ]
  },
  {
   "cell_type": "code",
   "execution_count": 20,
   "id": "39fb39e8",
   "metadata": {},
   "outputs": [],
   "source": [
    "maskT = maskT.to('cuda')"
   ]
  },
  {
   "cell_type": "code",
   "execution_count": 21,
   "id": "f65a8097",
   "metadata": {},
   "outputs": [],
   "source": [
    "fpass = e.forward(maskT.float())"
   ]
  },
  {
   "cell_type": "code",
   "execution_count": 23,
   "id": "42513790",
   "metadata": {},
   "outputs": [
    {
     "data": {
      "text/plain": [
       "torch.Size([1, 13, 128, 128])"
      ]
     },
     "execution_count": 23,
     "metadata": {},
     "output_type": "execute_result"
    }
   ],
   "source": [
    "fpass.shape"
   ]
  },
  {
   "cell_type": "code",
   "execution_count": 27,
   "id": "b8db03ef",
   "metadata": {},
   "outputs": [
    {
     "data": {
      "text/plain": [
       "tensor([[[[0.4934, 0.4651, 0.5269,  ..., 0.4851, 0.5091, 0.4853],\n",
       "          [0.4724, 0.4894, 0.4879,  ..., 0.5167, 0.4876, 0.4821],\n",
       "          [0.4673, 0.4497, 0.4960,  ..., 0.4146, 0.5010, 0.4550],\n",
       "          ...,\n",
       "          [0.4735, 0.5103, 0.4830,  ..., 0.4946, 0.4407, 0.5006],\n",
       "          [0.4818, 0.4830, 0.5148,  ..., 0.4457, 0.5451, 0.4970],\n",
       "          [0.4866, 0.5129, 0.5378,  ..., 0.4726, 0.5250, 0.4905]],\n",
       "\n",
       "         [[0.5068, 0.4830, 0.5441,  ..., 0.4765, 0.5221, 0.4992],\n",
       "          [0.5158, 0.4972, 0.5019,  ..., 0.5520, 0.4329, 0.4740],\n",
       "          [0.4998, 0.4733, 0.4999,  ..., 0.4690, 0.5062, 0.5198],\n",
       "          ...,\n",
       "          [0.4985, 0.5134, 0.4948,  ..., 0.5034, 0.5208, 0.4860],\n",
       "          [0.5034, 0.4993, 0.5400,  ..., 0.4869, 0.5122, 0.5159],\n",
       "          [0.5220, 0.5260, 0.5071,  ..., 0.5074, 0.5331, 0.4974]],\n",
       "\n",
       "         [[0.4806, 0.5050, 0.4771,  ..., 0.5010, 0.4729, 0.5004],\n",
       "          [0.5053, 0.4530, 0.5005,  ..., 0.4381, 0.4904, 0.4794],\n",
       "          [0.4955, 0.4949, 0.4511,  ..., 0.4936, 0.4619, 0.5299],\n",
       "          ...,\n",
       "          [0.4936, 0.4577, 0.4960,  ..., 0.4929, 0.5203, 0.5187],\n",
       "          [0.5021, 0.5045, 0.4863,  ..., 0.5309, 0.5045, 0.5117],\n",
       "          [0.4923, 0.4683, 0.5054,  ..., 0.4764, 0.4844, 0.5072]],\n",
       "\n",
       "         ...,\n",
       "\n",
       "         [[0.4839, 0.4899, 0.4606,  ..., 0.4822, 0.4720, 0.4886],\n",
       "          [0.5071, 0.4818, 0.4491,  ..., 0.4828, 0.4985, 0.4534],\n",
       "          [0.4912, 0.4498, 0.4533,  ..., 0.4365, 0.4577, 0.4549],\n",
       "          ...,\n",
       "          [0.5123, 0.4673, 0.4954,  ..., 0.4894, 0.5003, 0.4735],\n",
       "          [0.5097, 0.4434, 0.4133,  ..., 0.4965, 0.4529, 0.4703],\n",
       "          [0.4974, 0.4973, 0.4879,  ..., 0.4893, 0.4903, 0.4893]],\n",
       "\n",
       "         [[0.4840, 0.5054, 0.5051,  ..., 0.5190, 0.4770, 0.5044],\n",
       "          [0.5357, 0.5244, 0.5384,  ..., 0.4860, 0.4919, 0.4848],\n",
       "          [0.4965, 0.5452, 0.5316,  ..., 0.5452, 0.5074, 0.4974],\n",
       "          ...,\n",
       "          [0.5201, 0.4959, 0.5276,  ..., 0.5091, 0.4967, 0.5079],\n",
       "          [0.4995, 0.5529, 0.4692,  ..., 0.5695, 0.5144, 0.5151],\n",
       "          [0.5353, 0.5235, 0.5160,  ..., 0.5153, 0.5095, 0.5116]],\n",
       "\n",
       "         [[0.5226, 0.4793, 0.5090,  ..., 0.4908, 0.5232, 0.4961],\n",
       "          [0.5243, 0.4491, 0.4926,  ..., 0.5039, 0.5521, 0.5132],\n",
       "          [0.5071, 0.5235, 0.5356,  ..., 0.4880, 0.4963, 0.5190],\n",
       "          ...,\n",
       "          [0.5180, 0.4977, 0.5101,  ..., 0.4714, 0.5430, 0.5016],\n",
       "          [0.5187, 0.4813, 0.5196,  ..., 0.5038, 0.5044, 0.5324],\n",
       "          [0.5038, 0.4898, 0.5070,  ..., 0.4988, 0.5065, 0.5091]]]],\n",
       "       device='cuda:0', grad_fn=<SigmoidBackward>)"
      ]
     },
     "execution_count": 27,
     "metadata": {},
     "output_type": "execute_result"
    }
   ],
   "source": [
    "fpass"
   ]
  },
  {
   "cell_type": "code",
   "execution_count": 32,
   "id": "40e1fb57",
   "metadata": {},
   "outputs": [
    {
     "data": {
      "text/plain": [
       "torch.Size([1, 128, 128])"
      ]
     },
     "execution_count": 32,
     "metadata": {},
     "output_type": "execute_result"
    }
   ],
   "source": [
    "pred = T.argmax(fpass, dim=1)\n",
    "pred.shape"
   ]
  },
  {
   "cell_type": "code",
   "execution_count": 33,
   "id": "be678e14",
   "metadata": {},
   "outputs": [
    {
     "data": {
      "text/plain": [
       "torch.Size([1, 128, 128])"
      ]
     },
     "execution_count": 33,
     "metadata": {},
     "output_type": "execute_result"
    }
   ],
   "source": [
    "target = T.reshape(maskT, (1, 128, 128))\n",
    "target.shape"
   ]
  },
  {
   "cell_type": "code",
   "execution_count": 37,
   "id": "c7a31ad3",
   "metadata": {},
   "outputs": [
    {
     "data": {
      "text/plain": [
       "tensor([[[ 6,  7,  3,  ...,  7,  3,  6],\n",
       "         [ 3,  4, 11,  ...,  1, 12,  7],\n",
       "         [ 6, 11,  3,  ...,  7,  9,  2],\n",
       "         ...,\n",
       "         [ 3,  1,  3,  ...,  9, 12,  2],\n",
       "         [ 6, 11,  3,  ..., 11,  0, 12],\n",
       "         [11,  7,  0,  ...,  7,  1,  7]]], device='cuda:0')"
      ]
     },
     "execution_count": 37,
     "metadata": {},
     "output_type": "execute_result"
    }
   ],
   "source": [
    "pred"
   ]
  },
  {
   "cell_type": "code",
   "execution_count": 36,
   "id": "0f2a4ef5",
   "metadata": {},
   "outputs": [
    {
     "data": {
      "text/plain": [
       "tensor([[[3, 3, 3,  ..., 3, 3, 3],\n",
       "         [1, 3, 3,  ..., 3, 1, 1],\n",
       "         [1, 1, 3,  ..., 1, 1, 1],\n",
       "         ...,\n",
       "         [7, 7, 7,  ..., 7, 7, 7],\n",
       "         [7, 7, 7,  ..., 7, 7, 7],\n",
       "         [7, 7, 7,  ..., 7, 7, 7]]], device='cuda:0', dtype=torch.uint8)"
      ]
     },
     "execution_count": 36,
     "metadata": {},
     "output_type": "execute_result"
    }
   ],
   "source": [
    "target"
   ]
  },
  {
   "cell_type": "code",
   "execution_count": 38,
   "id": "6fa9f378",
   "metadata": {},
   "outputs": [],
   "source": [
    "input1 = T.randn(3, 5, requires_grad=True)\n",
    "target1 = T.empty(3, dtype=T.long).random_(5)\n",
    "output = e.loss(input1, target1)"
   ]
  },
  {
   "cell_type": "code",
   "execution_count": 39,
   "id": "5b047eac",
   "metadata": {},
   "outputs": [
    {
     "data": {
      "text/plain": [
       "tensor(1.7663, grad_fn=<NllLossBackward>)"
      ]
     },
     "execution_count": 39,
     "metadata": {},
     "output_type": "execute_result"
    }
   ],
   "source": [
    "output"
   ]
  },
  {
   "cell_type": "code",
   "execution_count": 40,
   "id": "9dd2f768",
   "metadata": {},
   "outputs": [
    {
     "data": {
      "text/plain": [
       "torch.Size([3, 5])"
      ]
     },
     "execution_count": 40,
     "metadata": {},
     "output_type": "execute_result"
    }
   ],
   "source": [
    "input1.shape"
   ]
  },
  {
   "cell_type": "code",
   "execution_count": 43,
   "id": "173efa5f",
   "metadata": {},
   "outputs": [
    {
     "data": {
      "text/plain": [
       "tensor([[-1.9216,  0.2944,  0.3745, -0.6319,  1.1757],\n",
       "        [-1.2880,  0.1013,  2.2923, -1.6622,  0.4937],\n",
       "        [-0.3749, -1.2438,  0.0444, -1.3109,  1.7511]], requires_grad=True)"
      ]
     },
     "execution_count": 43,
     "metadata": {},
     "output_type": "execute_result"
    }
   ],
   "source": [
    "input1"
   ]
  },
  {
   "cell_type": "code",
   "execution_count": 41,
   "id": "871c3844",
   "metadata": {},
   "outputs": [
    {
     "data": {
      "text/plain": [
       "torch.Size([3])"
      ]
     },
     "execution_count": 41,
     "metadata": {},
     "output_type": "execute_result"
    }
   ],
   "source": [
    "target1.shape"
   ]
  },
  {
   "cell_type": "code",
   "execution_count": 44,
   "id": "873c85bd",
   "metadata": {},
   "outputs": [
    {
     "data": {
      "text/plain": [
       "tensor([4, 3, 4])"
      ]
     },
     "execution_count": 44,
     "metadata": {},
     "output_type": "execute_result"
    }
   ],
   "source": [
    "target1"
   ]
  },
  {
   "cell_type": "code",
   "execution_count": 45,
   "id": "4ebc0f55",
   "metadata": {},
   "outputs": [
    {
     "data": {
      "text/plain": [
       "tensor(2.5510, device='cuda:0', grad_fn=<NllLoss2DBackward>)"
      ]
     },
     "execution_count": 45,
     "metadata": {},
     "output_type": "execute_result"
    }
   ],
   "source": [
    "l = e.loss(fpass.float(), target.long())\n",
    "l"
   ]
  },
  {
   "cell_type": "code",
   "execution_count": 24,
   "id": "3e747415",
   "metadata": {},
   "outputs": [],
   "source": [
    "comp = e.compress(maskT.float())"
   ]
  },
  {
   "cell_type": "code",
   "execution_count": 26,
   "id": "63cd6049",
   "metadata": {},
   "outputs": [
    {
     "data": {
      "text/plain": [
       "torch.Size([1, 64, 1, 1])"
      ]
     },
     "execution_count": 26,
     "metadata": {},
     "output_type": "execute_result"
    }
   ],
   "source": [
    "comp.shape"
   ]
  },
  {
   "cell_type": "markdown",
   "id": "433b7b3d",
   "metadata": {},
   "source": [
    "## Training Image Class Weights"
   ]
  },
  {
   "cell_type": "code",
   "execution_count": 13,
   "id": "948b1be3",
   "metadata": {},
   "outputs": [],
   "source": [
    "from random import sample\n",
    "from os import listdir"
   ]
  },
  {
   "cell_type": "code",
   "execution_count": 67,
   "id": "a0d81bb7",
   "metadata": {},
   "outputs": [],
   "source": [
    "sems = [name for name in listdir('images/Clear Noon Dry/Semantic/')]\n",
    "sample_sems = sample(sems, 20000)"
   ]
  },
  {
   "cell_type": "code",
   "execution_count": 68,
   "id": "ea6a7b68",
   "metadata": {},
   "outputs": [],
   "source": [
    "tag_count = {0:0, 1:0, 2:0, 3:0, 4:0, 5:0, 6:0, 7:0, 8:0, 9:0, 10:0, 11:0, 12:0}"
   ]
  },
  {
   "cell_type": "code",
   "execution_count": 70,
   "id": "890b976e",
   "metadata": {},
   "outputs": [],
   "source": [
    "for i in range(len(sample_sems)):\n",
    "    im = np.load('images/Clear Noon Dry/Semantic/' + sample_sems[i])\n",
    "    unique, counts = np.unique(im, return_counts=True)\n",
    "    temp = dict(zip(unique, counts))\n",
    "    for tag in temp:\n",
    "        tag_count[tag] += temp[tag]"
   ]
  },
  {
   "cell_type": "code",
   "execution_count": 71,
   "id": "59978510",
   "metadata": {},
   "outputs": [
    {
     "data": {
      "text/plain": [
       "{0: 4012,\n",
       " 1: 28238868,\n",
       " 2: 300802,\n",
       " 3: 66028772,\n",
       " 4: 0,\n",
       " 5: 5122881,\n",
       " 6: 6709721,\n",
       " 7: 197078613,\n",
       " 8: 5642633,\n",
       " 9: 6383513,\n",
       " 10: 47894,\n",
       " 11: 12115097,\n",
       " 12: 7194}"
      ]
     },
     "execution_count": 71,
     "metadata": {},
     "output_type": "execute_result"
    }
   ],
   "source": [
    "tag_count"
   ]
  },
  {
   "cell_type": "code",
   "execution_count": 72,
   "id": "54c59278",
   "metadata": {},
   "outputs": [
    {
     "data": {
      "text/plain": [
       "[1.224365234375e-05,\n",
       " 0.08617818603515626,\n",
       " 0.000917974853515625,\n",
       " 0.20150382080078125,\n",
       " 0.0,\n",
       " 0.015633792114257812,\n",
       " 0.02047644348144531,\n",
       " 0.6014361968994141,\n",
       " 0.01721994934082031,\n",
       " 0.019480935668945314,\n",
       " 0.000146160888671875,\n",
       " 0.036972341918945315,\n",
       " 2.1954345703125e-05]"
      ]
     },
     "execution_count": 72,
     "metadata": {},
     "output_type": "execute_result"
    }
   ],
   "source": [
    "sum1 = 0\n",
    "weights = []\n",
    "\n",
    "for key in tag_count:\n",
    "    sum1 += tag_count[key]\n",
    "\n",
    "for key in tag_count:\n",
    "    weights.append(tag_count[key]/sum1)\n",
    "    \n",
    "weights"
   ]
  },
  {
   "cell_type": "code",
   "execution_count": 75,
   "id": "4b243895",
   "metadata": {},
   "outputs": [
    {
     "data": {
      "text/plain": [
       "[0.9999877563476562,\n",
       " 0.9138218139648437,\n",
       " 0.9990820251464844,\n",
       " 0.7984961791992188,\n",
       " 1.0,\n",
       " 0.9843662078857421,\n",
       " 0.9795235565185547,\n",
       " 0.3985638031005859,\n",
       " 0.9827800506591797,\n",
       " 0.9805190643310547,\n",
       " 0.9998538391113281,\n",
       " 0.9630276580810547,\n",
       " 0.9999780456542968]"
      ]
     },
     "execution_count": 75,
     "metadata": {},
     "output_type": "execute_result"
    }
   ],
   "source": [
    "inv_weights = []\n",
    "for weight in weights:\n",
    "    inv_weights.append(1 - weight)\n",
    "\n",
    "\n",
    "inv_weights"
   ]
  },
  {
   "cell_type": "code",
   "execution_count": 92,
   "id": "65cbc683",
   "metadata": {},
   "outputs": [],
   "source": [
    "final_weights = inv_weights/sum(inv_weights)"
   ]
  },
  {
   "cell_type": "code",
   "execution_count": 93,
   "id": "34bbd06f",
   "metadata": {},
   "outputs": [
    {
     "data": {
      "text/plain": [
       "1.0000000000000002"
      ]
     },
     "execution_count": 93,
     "metadata": {},
     "output_type": "execute_result"
    }
   ],
   "source": [
    "sum(final_weights)"
   ]
  },
  {
   "cell_type": "code",
   "execution_count": 94,
   "id": "2eb5012a",
   "metadata": {},
   "outputs": [],
   "source": [
    "final_weights = T.tensor(final_weights)"
   ]
  },
  {
   "cell_type": "code",
   "execution_count": 95,
   "id": "2aa8e160",
   "metadata": {},
   "outputs": [
    {
     "data": {
      "text/plain": [
       "tensor([0.0833, 0.0762, 0.0833, 0.0665, 0.0833, 0.0820, 0.0816, 0.0332, 0.0819,\n",
       "        0.0817, 0.0833, 0.0803, 0.0833], dtype=torch.float64)"
      ]
     },
     "execution_count": 95,
     "metadata": {},
     "output_type": "execute_result"
    }
   ],
   "source": [
    "final_weights"
   ]
  },
  {
   "cell_type": "code",
   "execution_count": 98,
   "id": "8675d1c7",
   "metadata": {},
   "outputs": [
    {
     "data": {
      "text/plain": [
       "20000.0"
      ]
     },
     "execution_count": 98,
     "metadata": {},
     "output_type": "execute_result"
    }
   ],
   "source": [
    "sum1/(128*128)"
   ]
  },
  {
   "cell_type": "markdown",
   "id": "a0df2dca",
   "metadata": {},
   "source": [
    "## Training Encoder Decoder Network"
   ]
  },
  {
   "cell_type": "code",
   "execution_count": 133,
   "id": "eb317b8f",
   "metadata": {},
   "outputs": [],
   "source": [
    "class SegmentationDataset(Dataset):\n",
    "    def __init__(self, mask_paths, num_classes, device, path):\n",
    "        self.mask_paths = mask_paths\n",
    "        self.num_classes = num_classes\n",
    "        self.device = device\n",
    "        self.path = path\n",
    "\n",
    "    def __len__(self):\n",
    "        return len(self.mask_paths)\n",
    "\n",
    "    def __getitem__(self, idx):\n",
    "        mask = np.load(self.path + self.mask_paths[idx])\n",
    "        im = T.from_numpy(mask).float().to(self.device)\n",
    "        im = T.reshape(im, (1, 128, 128))\n",
    "        mask = T.from_numpy(mask).long().to(self.device)\n",
    "        mask = T.reshape(mask, (128, 128))\n",
    "        return im, mask"
   ]
  },
  {
   "cell_type": "code",
   "execution_count": 111,
   "id": "d986eff2",
   "metadata": {},
   "outputs": [
    {
     "data": {
      "text/plain": [
       "84998"
      ]
     },
     "execution_count": 111,
     "metadata": {},
     "output_type": "execute_result"
    }
   ],
   "source": [
    "sems = [name for name in listdir('images/Clear Noon Dry/Semantic/')]\n",
    "len(sems)"
   ]
  },
  {
   "cell_type": "code",
   "execution_count": 134,
   "id": "fba13ce9",
   "metadata": {},
   "outputs": [],
   "source": [
    "dataset = SegmentationDataset(sems[:84992], 13, 'cuda', 'images/Clear Noon Dry/Semantic/')"
   ]
  },
  {
   "cell_type": "code",
   "execution_count": 135,
   "id": "ae377deb",
   "metadata": {},
   "outputs": [],
   "source": [
    "data = DataLoader(dataset, batch_size=32)"
   ]
  },
  {
   "cell_type": "code",
   "execution_count": 136,
   "id": "b3f5a600",
   "metadata": {},
   "outputs": [
    {
     "name": "stderr",
     "output_type": "stream",
     "text": [
      "100%|##########| 30/30 [5:35:46<00:00, 671.55s/epochs]  \n"
     ]
    }
   ],
   "source": [
    "epochs = 30\n",
    "aed = autoencoder(1, 13, 0.001, final_weights.float())\n",
    "device = 'cuda'\n",
    "it = 1\n",
    "losses = []\n",
    "\n",
    "for epoch in tqdm(range(1, epochs + 1), ascii=True, unit='epochs'):\n",
    "    for i, (x, y) in enumerate(data):\n",
    "        aed.optimiser.zero_grad()\n",
    "        \n",
    "        preds = aed.forward(x).to(device)\n",
    "        \n",
    "        loss = aed.loss(preds, y).to(device)\n",
    "        loss.backward()\n",
    "        aed.optimiser.step()\n",
    "        aed.tensorboard.add_scalar('Loss', loss.item(), it)\n",
    "        it += 1\n",
    "        losses.append(loss)\n",
    "        \n",
    "        "
   ]
  },
  {
   "cell_type": "code",
   "execution_count": 138,
   "id": "a9f3874f",
   "metadata": {},
   "outputs": [],
   "source": [
    "aed.save_model(1, 1, 1)"
   ]
  },
  {
   "cell_type": "markdown",
   "id": "ee2b0c62",
   "metadata": {},
   "source": [
    "# Training RGB to Semantic Encoder Network"
   ]
  },
  {
   "cell_type": "code",
   "execution_count": null,
   "id": "fe8b06ff",
   "metadata": {},
   "outputs": [],
   "source": [
    "def load_data(path):\n",
    "    \"\"\"\n",
    "    Helper method to load the dataset\n",
    "    :param path: Path to location of dataset\n",
    "    :return: lists of all the images and masks\n",
    "    \"\"\"\n",
    "    dirs = ['Clear Noon Dry', 'Cloudy Evening HR', 'Cloudy Evening LR', 'Night Dry', 'Night HR', 'Night LR']\n",
    "    all_images = []\n",
    "    all_masks = []\n",
    "\n",
    "    for d in dirs:\n",
    "        images_list = list(path.glob(f'{d}/RGB/*.npy'))\n",
    "        images_list.sort()\n",
    "        masks_list = list(path.glob(f'{d}/Semantic/*.npy'))\n",
    "        masks_list.sort()\n",
    "        if len(images_list) != len(masks_list):\n",
    "            raise ValueError('Invalid data loaded')\n",
    "        pairs = zip(images_list, masks_list)\n",
    "        pairs = sample(list(pairs), 20000)\n",
    "        images_list, masks_list = zip(*pairs)\n",
    "        all_images += images_list\n",
    "        all_masks += masks_list\n",
    "    \n",
    "    all_images = np.array(all_images)\n",
    "    all_masks = np.array(all_masks)\n",
    "    \n",
    "    return all_images, all_masks"
   ]
  },
  {
   "cell_type": "markdown",
   "id": "5bb4b7a2",
   "metadata": {},
   "source": [
    "## Testing "
   ]
  },
  {
   "cell_type": "code",
   "execution_count": 14,
   "id": "4261b15e",
   "metadata": {},
   "outputs": [],
   "source": [
    "test_sems = [name for name in listdir('images/Cloudy Evening HR/Semantic/')]\n",
    "# test_sems ="
   ]
  },
  {
   "cell_type": "code",
   "execution_count": 8,
   "id": "35b98922",
   "metadata": {},
   "outputs": [
    {
     "data": {
      "text/plain": [
       "<All keys matched successfully>"
      ]
     },
     "execution_count": 8,
     "metadata": {},
     "output_type": "execute_result"
    }
   ],
   "source": [
    "ae = autoencoder(1, 13, 0.001, T.tensor([1, 1, 1, 1, 1, 1, 1, 1, 1, 1, 1, 1, 1]).float())\n",
    "ae.load_state_dict(T.load('ae-models/Clear Noon Dry/ae-1649055310'))"
   ]
  },
  {
   "cell_type": "code",
   "execution_count": 27,
   "id": "77066117",
   "metadata": {},
   "outputs": [
    {
     "data": {
      "text/plain": [
       "(64,)"
      ]
     },
     "execution_count": 27,
     "metadata": {},
     "output_type": "execute_result"
    }
   ],
   "source": [
    "c = ae.compress(mt.float())\n",
    "lat = T.reshape(c, (1, 64))\n",
    "lat = lat.cpu().detach().numpy()\n",
    "np.reshape(lat, (64)).shape"
   ]
  },
  {
   "cell_type": "code",
   "execution_count": 32,
   "id": "9f9840a1",
   "metadata": {},
   "outputs": [
    {
     "data": {
      "text/plain": [
       "array([1., 1., 1.])"
      ]
     },
     "execution_count": 32,
     "metadata": {},
     "output_type": "execute_result"
    }
   ],
   "source": [
    "np.concatenate((np.array([1, 1, 1]), np.array([])), axis=None)"
   ]
  },
  {
   "cell_type": "code",
   "execution_count": 16,
   "id": "7872d476",
   "metadata": {},
   "outputs": [],
   "source": [
    "m = np.load('images/Cloudy Evening HR/Semantic/' + test_sems[0])\n",
    "mt = T.tensor(m).to('cuda')\n",
    "mt = T.reshape(mt, (1, 1, 128, 128))\n",
    "# p = aed.forward(mt.float())"
   ]
  },
  {
   "cell_type": "code",
   "execution_count": 146,
   "id": "e28f1d2c",
   "metadata": {},
   "outputs": [],
   "source": [
    "%matplotlib inline\n",
    "import matplotlib.pyplot as plt"
   ]
  },
  {
   "cell_type": "code",
   "execution_count": 147,
   "id": "5844ca21",
   "metadata": {},
   "outputs": [],
   "source": [
    "def mask_to_image(array):\n",
    "    image = np.zeros((128, 128, 3))\n",
    "    for i in range(128):\n",
    "        for j in range(128):\n",
    "            image[i, j] = pixels[array[i, j]]\n",
    "    \n",
    "    return image.astype('uint8')"
   ]
  },
  {
   "cell_type": "code",
   "execution_count": 148,
   "id": "8c28c338",
   "metadata": {},
   "outputs": [],
   "source": [
    "pixels = {0.0:np.array([int(0), int(0), int(0)]),\n",
    "          1.0:np.array([int(70), int(70), int(70)]),\n",
    "          2.0:np.array([int(100), int(40), int(40)]),\n",
    "          3.0:np.array([int(55), int(90), int(80)]),\n",
    "          4.0:np.array([int(220), int(20), int(60)]),\n",
    "          5.0:np.array([int(153), int(153), int(153)]),\n",
    "          6.0:np.array([int(157), int(234), int(50)]),\n",
    "          7.0:np.array([int(128), int(64), int(128)]),\n",
    "          8.0:np.array([int(244), int(35), int(232)]),\n",
    "          9.0:np.array([int(107), int(142), int(35)]),\n",
    "          10.0:np.array([int(0), int(0), int(142)]),\n",
    "          11.0:np.array([int(102), int(102), int(156)]),\n",
    "          12.0:np.array([int(220), int(220), int(0)])}"
   ]
  },
  {
   "cell_type": "code",
   "execution_count": 149,
   "id": "57c66253",
   "metadata": {},
   "outputs": [
    {
     "data": {
      "image/png": "[encoded data removed]",
      "text/plain": [
       "<Figure size 432x288 with 1 Axes>"
      ]
     },
     "metadata": {
      "needs_background": "light"
     },
     "output_type": "display_data"
    }
   ],
   "source": [
    "img = mask_to_image(m)\n",
    "plt.imshow(img)\n",
    "plt.show()"
   ]
  },
  {
   "cell_type": "code",
   "execution_count": 158,
   "id": "b9a2ac40",
   "metadata": {},
   "outputs": [
    {
     "data": {
      "image/png": "[encoded data removed]",
      "text/plain": [
       "<Figure size 432x288 with 1 Axes>"
      ]
     },
     "metadata": {
      "needs_background": "light"
     },
     "output_type": "display_data"
    }
   ],
   "source": [
    "ma = T.argmax(p, dim=1)\n",
    "ma = ma.cpu().detach().numpy()\n",
    "ma = np.reshape(ma, (128, 128))\n",
    "img = mask_to_image(ma)\n",
    "plt.imshow(img)\n",
    "plt.show()"
   ]
  },
  {
   "cell_type": "code",
   "execution_count": 159,
   "id": "039a5060",
   "metadata": {},
   "outputs": [
    {
     "data": {
      "image/png": "[encoded data removed]",
      "text/plain": [
       "<Figure size 432x288 with 1 Axes>"
      ]
     },
     "metadata": {
      "needs_background": "light"
     },
     "output_type": "display_data"
    }
   ],
   "source": [
    "m1 = np.load('images/Clear Noon Dry/Semantic/' + sems[0])\n",
    "mt1 = T.tensor(m1).to('cuda')\n",
    "mt1 = T.reshape(mt1, (1, 1, 128, 128))\n",
    "img = mask_to_image(m1)\n",
    "plt.imshow(img)\n",
    "plt.show()"
   ]
  },
  {
   "cell_type": "code",
   "execution_count": 161,
   "id": "f7bea6f1",
   "metadata": {},
   "outputs": [
    {
     "data": {
      "image/png": "[encoded data removed]",
      "text/plain": [
       "<Figure size 432x288 with 1 Axes>"
      ]
     },
     "metadata": {
      "needs_background": "light"
     },
     "output_type": "display_data"
    }
   ],
   "source": [
    "p1 = aed.forward(mt1.float())\n",
    "ma1 = T.argmax(p1, dim=1)\n",
    "ma1 = ma1.cpu().detach().numpy()\n",
    "ma1 = np.reshape(ma1, (128, 128))\n",
    "img = mask_to_image(ma1)\n",
    "plt.imshow(img)\n",
    "plt.show()"
   ]
  },
  {
   "cell_type": "code",
   "execution_count": 162,
   "id": "4541c3a8",
   "metadata": {},
   "outputs": [
    {
     "data": {
      "text/plain": [
       "'sem_image64198.npy'"
      ]
     },
     "execution_count": 162,
     "metadata": {},
     "output_type": "execute_result"
    }
   ],
   "source": [
    "sems[9]"
   ]
  },
  {
   "cell_type": "markdown",
   "id": "7a25f6cf",
   "metadata": {},
   "source": [
    "## Old Stuff"
   ]
  },
  {
   "cell_type": "code",
   "execution_count": 17,
   "id": "0cbe98ad",
   "metadata": {},
   "outputs": [],
   "source": [
    "class decoder(nn.Module):\n",
    "    def __init__(self, outputs, learning_rate):\n",
    "        super(decoder, self).__init__()\n",
    "        self.conv1 = nn.ConvTranspose2d(64, 512, 4, 1)\n",
    "        self.bn1 = nn.BatchNorm2d(512)\n",
    "        self.conv2 = nn.ConvTranspose2d(512, 256, 4, 2, 1)\n",
    "        self.bn2 = nn.BatchNorm2d(256)\n",
    "        self.conv3 = nn.ConvTranspose2d(256, 128, 4, 2, 1)\n",
    "        self.bn3 = nn.BatchNorm2d(128)\n",
    "        self.conv4 = nn.ConvTranspose2d(128, 64, 4, 2, 1)\n",
    "        self.bn4 = nn.BatchNorm2d(64)\n",
    "        self.conv5 = nn.ConvTranspose2d(64, 32, 4, 2, 1)\n",
    "        self.bn5 = nn.BatchNorm2d(32)\n",
    "        self.conv6 = nn.ConvTranspose2d(32, outputs, 4, 2, 1)\n",
    "        \n",
    "        self.loss = nn.CrossEntropyLoss()\n",
    "        self.learning_rate = learning_rate\n",
    "        self.optimiser = optim.Adam(self.parameters(), self.learning_rate)\n",
    "        self.device = T.device(\"cuda\" if T.cuda.is_available() else \"cpu\")\n",
    "        self.to(self.device)\n",
    "        \n",
    "    def forward(self, x):\n",
    "        x = self.conv1(x)\n",
    "        x = self.bn1(x)\n",
    "        x = F.leaky_relu(x, 0.2)\n",
    "        \n",
    "        x = self.conv2(x)\n",
    "        x = self.bn2(x)\n",
    "        x = F.leaky_relu(x, 0.2)\n",
    "\n",
    "        x = self.conv3(x)\n",
    "        x = self.bn3(x)\n",
    "        x = F.leaky_relu(x, 0.2)\n",
    "\n",
    "        x = self.conv4(x)\n",
    "        x = self.bn4(x)\n",
    "        x = F.leaky_relu(x, 0.2)\n",
    "        \n",
    "        x = self.conv5(x)\n",
    "        x = self.bn5(x)\n",
    "        x = F.leaky_relu(x, 0.2)\n",
    "        \n",
    "        x = self.conv6(x)\n",
    "        x = T.sigmoid(x)\n",
    "        \n",
    "        return x"
   ]
  },
  {
   "cell_type": "code",
   "execution_count": null,
   "id": "4bc88b99",
   "metadata": {},
   "outputs": [],
   "source": [
    "class EDNetwork:\n",
    "    def __init__(self):\n",
    "        self.downConv = encoder(1, 0.001)\n",
    "        self.upConv = decoder(13, 0.001)\n",
    "        "
   ]
  },
  {
   "cell_type": "code",
   "execution_count": 19,
   "id": "464b6b5c",
   "metadata": {},
   "outputs": [
    {
     "name": "stdout",
     "output_type": "stream",
     "text": [
      "==========================================================================================\n",
      "Layer (type:depth-idx)                   Output Shape              Param #\n",
      "==========================================================================================\n",
      "├─Conv2d: 1-1                            [-1, 32, 64, 64]          544\n",
      "├─Conv2d: 1-2                            [-1, 64, 32, 32]          32,832\n",
      "├─BatchNorm2d: 1-3                       [-1, 64, 32, 32]          128\n",
      "├─Conv2d: 1-4                            [-1, 128, 16, 16]         131,200\n",
      "├─BatchNorm2d: 1-5                       [-1, 128, 16, 16]         256\n",
      "├─Conv2d: 1-6                            [-1, 256, 8, 8]           524,544\n",
      "├─BatchNorm2d: 1-7                       [-1, 256, 8, 8]           512\n",
      "├─Conv2d: 1-8                            [-1, 512, 4, 4]           2,097,664\n",
      "├─BatchNorm2d: 1-9                       [-1, 512, 4, 4]           1,024\n",
      "├─Conv2d: 1-10                           [-1, 64, 1, 1]            524,352\n",
      "==========================================================================================\n",
      "Total params: 3,313,056\n",
      "Trainable params: 3,313,056\n",
      "Non-trainable params: 0\n",
      "Total mult-adds (M): 136.84\n",
      "==========================================================================================\n",
      "Input size (MB): 0.06\n",
      "Forward/backward pass size (MB): 2.88\n",
      "Params size (MB): 12.64\n",
      "Estimated Total Size (MB): 15.58\n",
      "==========================================================================================\n",
      "==========================================================================================\n",
      "Layer (type:depth-idx)                   Output Shape              Param #\n",
      "==========================================================================================\n",
      "├─ConvTranspose2d: 1-1                   [-1, 512, 4, 4]           524,800\n",
      "├─BatchNorm2d: 1-2                       [-1, 512, 4, 4]           1,024\n",
      "├─ConvTranspose2d: 1-3                   [-1, 256, 8, 8]           2,097,408\n",
      "├─BatchNorm2d: 1-4                       [-1, 256, 8, 8]           512\n",
      "├─ConvTranspose2d: 1-5                   [-1, 128, 16, 16]         524,416\n",
      "├─BatchNorm2d: 1-6                       [-1, 128, 16, 16]         256\n",
      "├─ConvTranspose2d: 1-7                   [-1, 64, 32, 32]          131,136\n",
      "├─BatchNorm2d: 1-8                       [-1, 64, 32, 32]          128\n",
      "├─ConvTranspose2d: 1-9                   [-1, 32, 64, 64]          32,800\n",
      "├─BatchNorm2d: 1-10                      [-1, 32, 64, 64]          64\n",
      "├─ConvTranspose2d: 1-11                  [-1, 13, 128, 128]        6,669\n",
      "==========================================================================================\n",
      "Total params: 3,319,213\n",
      "Trainable params: 3,319,213\n",
      "Non-trainable params: 0\n",
      "Total mult-adds (M): 654.31\n",
      "==========================================================================================\n",
      "Input size (MB): 0.00\n",
      "Forward/backward pass size (MB): 5.50\n",
      "Params size (MB): 12.66\n",
      "Estimated Total Size (MB): 18.16\n",
      "==========================================================================================\n"
     ]
    },
    {
     "data": {
      "text/plain": [
       "==========================================================================================\n",
       "Layer (type:depth-idx)                   Output Shape              Param #\n",
       "==========================================================================================\n",
       "├─ConvTranspose2d: 1-1                   [-1, 512, 4, 4]           524,800\n",
       "├─BatchNorm2d: 1-2                       [-1, 512, 4, 4]           1,024\n",
       "├─ConvTranspose2d: 1-3                   [-1, 256, 8, 8]           2,097,408\n",
       "├─BatchNorm2d: 1-4                       [-1, 256, 8, 8]           512\n",
       "├─ConvTranspose2d: 1-5                   [-1, 128, 16, 16]         524,416\n",
       "├─BatchNorm2d: 1-6                       [-1, 128, 16, 16]         256\n",
       "├─ConvTranspose2d: 1-7                   [-1, 64, 32, 32]          131,136\n",
       "├─BatchNorm2d: 1-8                       [-1, 64, 32, 32]          128\n",
       "├─ConvTranspose2d: 1-9                   [-1, 32, 64, 64]          32,800\n",
       "├─BatchNorm2d: 1-10                      [-1, 32, 64, 64]          64\n",
       "├─ConvTranspose2d: 1-11                  [-1, 13, 128, 128]        6,669\n",
       "==========================================================================================\n",
       "Total params: 3,319,213\n",
       "Trainable params: 3,319,213\n",
       "Non-trainable params: 0\n",
       "Total mult-adds (M): 654.31\n",
       "==========================================================================================\n",
       "Input size (MB): 0.00\n",
       "Forward/backward pass size (MB): 5.50\n",
       "Params size (MB): 12.66\n",
       "Estimated Total Size (MB): 18.16\n",
       "=========================================================================================="
      ]
     },
     "execution_count": 19,
     "metadata": {},
     "output_type": "execute_result"
    }
   ],
   "source": [
    "e = encoder(1, 0.001)\n",
    "summary(e, (1, 128, 128))\n",
    "d = decoder(13, 0.001)\n",
    "summary(d, (64, 1, 1))"
   ]
  },
  {
   "cell_type": "code",
   "execution_count": null,
   "id": "a9b0729f",
   "metadata": {},
   "outputs": [],
   "source": []
  }
 ],
 "metadata": {
  "kernelspec": {
   "display_name": "Python [conda env:carla]",
   "language": "python",
   "name": "conda-env-carla-py"
  },
  "language_info": {
   "codemirror_mode": {
    "name": "ipython",
    "version": 3
   },
   "file_extension": ".py",
   "mimetype": "text/x-python",
   "name": "python",
   "nbconvert_exporter": "python",
   "pygments_lexer": "ipython3",
   "version": "3.6.13"
  }
 },
 "nbformat": 4,
 "nbformat_minor": 5
}
